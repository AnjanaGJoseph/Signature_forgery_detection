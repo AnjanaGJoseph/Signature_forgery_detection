{
  "nbformat": 4,
  "nbformat_minor": 0,
  "metadata": {
    "kernelspec": {
      "name": "python3",
      "display_name": "Python 3",
      "language": "python"
    },
    "language_info": {
      "name": "python",
      "version": "3.7.6",
      "mimetype": "text/x-python",
      "codemirror_mode": {
        "name": "ipython",
        "version": 3
      },
      "pygments_lexer": "ipython3",
      "nbconvert_exporter": "python",
      "file_extension": ".py"
    },
    "colab": {
      "name": "signature-classification-using-siamese.ipynb",
      "provenance": [],
      "toc_visible": true,
      "include_colab_link": true
    },
    "accelerator": "GPU"
  },
  "cells": [
    {
      "cell_type": "markdown",
      "metadata": {
        "id": "view-in-github",
        "colab_type": "text"
      },
      "source": [
        "<a href=\"https://colab.research.google.com/github/AnjanaGJoseph/Signature_forgery_detection/blob/master/signature_classification_using_siamese.ipynb\" target=\"_parent\"><img src=\"https://colab.research.google.com/assets/colab-badge.svg\" alt=\"Open In Colab\"/></a>"
      ]
    },
    {
      "cell_type": "markdown",
      "metadata": {
        "id": "9yk6HnBN4Lt7",
        "colab_type": "text"
      },
      "source": [
        "# All imports are defined here:-"
      ]
    },
    {
      "cell_type": "code",
      "metadata": {
        "_uuid": "d629ff2d2480ee46fbb7e2d37f6b5fab8052498a",
        "_cell_guid": "79c7e3d0-c299-4dcb-8224-4455121ee9b0",
        "trusted": true,
        "id": "LKbslTe44Lt8",
        "colab_type": "code",
        "colab": {}
      },
      "source": [
        "import numpy as np \n",
        "import pandas as pd\n",
        "import os\n",
        "\n",
        "%matplotlib inline\n",
        "import torchvision\n",
        "import torchvision.datasets as dset\n",
        "import torchvision.transforms as transforms\n",
        "from torch.utils.data import DataLoader,Dataset\n",
        "import matplotlib.pyplot as plt\n",
        "import torchvision.utils\n",
        "import random\n",
        "from PIL import Image\n",
        "import torch\n",
        "from torch.autograd import Variable\n",
        "import torch.nn as nn\n",
        "from torch import optim\n",
        "import torch.nn.functional as F"
      ],
      "execution_count": 1,
      "outputs": []
    },
    {
      "cell_type": "code",
      "metadata": {
        "id": "UihSQ19s4UIm",
        "colab_type": "code",
        "colab": {}
      },
      "source": [
        "os.environ['KAGGLE_USERNAME'] = \"anjana22\"\n",
        "os.environ['KAGGLE_KEY'] = \"16acf05db0477eb1236698f72ea68121\""
      ],
      "execution_count": 2,
      "outputs": []
    },
    {
      "cell_type": "code",
      "metadata": {
        "id": "64qz5z1E4Y1g",
        "colab_type": "code",
        "colab": {
          "base_uri": "https://localhost:8080/",
          "height": 67
        },
        "outputId": "61f9b090-c8be-447e-eb87-e0cd05d9f9c9"
      },
      "source": [
        "!kaggle datasets download -d robinreni/signature-verification-dataset"
      ],
      "execution_count": 3,
      "outputs": [
        {
          "output_type": "stream",
          "text": [
            "Downloading signature-verification-dataset.zip to /content\n",
            " 99% 593M/601M [00:07<00:00, 85.9MB/s]\n",
            "100% 601M/601M [00:07<00:00, 82.1MB/s]\n"
          ],
          "name": "stdout"
        }
      ]
    },
    {
      "cell_type": "code",
      "metadata": {
        "id": "IO2DqAIe4dDY",
        "colab_type": "code",
        "colab": {}
      },
      "source": [
        "\n",
        "!unzip -q signature-verification-dataset.zip"
      ],
      "execution_count": 4,
      "outputs": []
    },
    {
      "cell_type": "markdown",
      "metadata": {
        "id": "yy6kPLKX4LuB",
        "colab_type": "text"
      },
      "source": [
        "# Defining Training Directories and CSV's:-"
      ]
    },
    {
      "cell_type": "code",
      "metadata": {
        "trusted": true,
        "id": "TNOVh5Fa4LuC",
        "colab_type": "code",
        "colab": {}
      },
      "source": [
        "train_dir=\"/content/sign_data/train\"\n",
        "train_csv=\"/content/sign_data/train_data.csv\"\n",
        "test_csv=\"/content/sign_data/test_data.csv\"\n",
        "test_dir=\"/content/sign_data/test\""
      ],
      "execution_count": 5,
      "outputs": []
    },
    {
      "cell_type": "code",
      "metadata": {
        "trusted": true,
        "id": "xcMAamp44LuI",
        "colab_type": "code",
        "colab": {
          "base_uri": "https://localhost:8080/",
          "height": 343
        },
        "outputId": "cd61bfa9-1603-4292-e2af-ac3bb6080f1f"
      },
      "source": [
        "df_train=pd.read_csv(train_csv)\n",
        "df_train.sample(10)"
      ],
      "execution_count": 6,
      "outputs": [
        {
          "output_type": "execute_result",
          "data": {
            "text/html": [
              "<div>\n",
              "<style scoped>\n",
              "    .dataframe tbody tr th:only-of-type {\n",
              "        vertical-align: middle;\n",
              "    }\n",
              "\n",
              "    .dataframe tbody tr th {\n",
              "        vertical-align: top;\n",
              "    }\n",
              "\n",
              "    .dataframe thead th {\n",
              "        text-align: right;\n",
              "    }\n",
              "</style>\n",
              "<table border=\"1\" class=\"dataframe\">\n",
              "  <thead>\n",
              "    <tr style=\"text-align: right;\">\n",
              "      <th></th>\n",
              "      <th>068/09_068.png</th>\n",
              "      <th>068_forg/03_0113068.PNG</th>\n",
              "      <th>1</th>\n",
              "    </tr>\n",
              "  </thead>\n",
              "  <tbody>\n",
              "    <tr>\n",
              "      <th>8210</th>\n",
              "      <td>009/009_03.PNG</td>\n",
              "      <td>009/009_24.PNG</td>\n",
              "      <td>0</td>\n",
              "    </tr>\n",
              "    <tr>\n",
              "      <th>5876</th>\n",
              "      <td>022/11_022.png</td>\n",
              "      <td>022/06_022.png</td>\n",
              "      <td>0</td>\n",
              "    </tr>\n",
              "    <tr>\n",
              "      <th>2766</th>\n",
              "      <td>004/004_01.PNG</td>\n",
              "      <td>004/004_23.PNG</td>\n",
              "      <td>0</td>\n",
              "    </tr>\n",
              "    <tr>\n",
              "      <th>15268</th>\n",
              "      <td>043/02_043.png</td>\n",
              "      <td>043_forg/02_0201043.PNG</td>\n",
              "      <td>1</td>\n",
              "    </tr>\n",
              "    <tr>\n",
              "      <th>21385</th>\n",
              "      <td>025/02_025.png</td>\n",
              "      <td>025_forg/03_0116025.PNG</td>\n",
              "      <td>1</td>\n",
              "    </tr>\n",
              "    <tr>\n",
              "      <th>1663</th>\n",
              "      <td>038/07_038.png</td>\n",
              "      <td>038_forg/02_0213038.PNG</td>\n",
              "      <td>1</td>\n",
              "    </tr>\n",
              "    <tr>\n",
              "      <th>22491</th>\n",
              "      <td>061/10_061.png</td>\n",
              "      <td>061_forg/03_0112061.PNG</td>\n",
              "      <td>1</td>\n",
              "    </tr>\n",
              "    <tr>\n",
              "      <th>7636</th>\n",
              "      <td>009/009_19.PNG</td>\n",
              "      <td>009_forg/0123009_03.png</td>\n",
              "      <td>1</td>\n",
              "    </tr>\n",
              "    <tr>\n",
              "      <th>21487</th>\n",
              "      <td>025/08_025.png</td>\n",
              "      <td>025/11_025.png</td>\n",
              "      <td>0</td>\n",
              "    </tr>\n",
              "    <tr>\n",
              "      <th>5078</th>\n",
              "      <td>012/012_18.PNG</td>\n",
              "      <td>012/012_03.PNG</td>\n",
              "      <td>0</td>\n",
              "    </tr>\n",
              "  </tbody>\n",
              "</table>\n",
              "</div>"
            ],
            "text/plain": [
              "       068/09_068.png  068_forg/03_0113068.PNG  1\n",
              "8210   009/009_03.PNG           009/009_24.PNG  0\n",
              "5876   022/11_022.png           022/06_022.png  0\n",
              "2766   004/004_01.PNG           004/004_23.PNG  0\n",
              "15268  043/02_043.png  043_forg/02_0201043.PNG  1\n",
              "21385  025/02_025.png  025_forg/03_0116025.PNG  1\n",
              "1663   038/07_038.png  038_forg/02_0213038.PNG  1\n",
              "22491  061/10_061.png  061_forg/03_0112061.PNG  1\n",
              "7636   009/009_19.PNG  009_forg/0123009_03.png  1\n",
              "21487  025/08_025.png           025/11_025.png  0\n",
              "5078   012/012_18.PNG           012/012_03.PNG  0"
            ]
          },
          "metadata": {
            "tags": []
          },
          "execution_count": 6
        }
      ]
    },
    {
      "cell_type": "markdown",
      "metadata": {
        "id": "t3hlQTal4LuP",
        "colab_type": "text"
      },
      "source": [
        "# Here we are seeing that 1 denotes for forged pair and 0 denotes for geniune pair of signatures.."
      ]
    },
    {
      "cell_type": "code",
      "metadata": {
        "trusted": true,
        "id": "UpH6NaOp4LuQ",
        "colab_type": "code",
        "colab": {
          "base_uri": "https://localhost:8080/",
          "height": 343
        },
        "outputId": "401fdd53-c1c5-448a-b481-751a007f37b9"
      },
      "source": [
        "\n",
        "df_test=pd.read_csv(test_csv)\n",
        "df_test.sample(10)"
      ],
      "execution_count": 7,
      "outputs": [
        {
          "output_type": "execute_result",
          "data": {
            "text/html": [
              "<div>\n",
              "<style scoped>\n",
              "    .dataframe tbody tr th:only-of-type {\n",
              "        vertical-align: middle;\n",
              "    }\n",
              "\n",
              "    .dataframe tbody tr th {\n",
              "        vertical-align: top;\n",
              "    }\n",
              "\n",
              "    .dataframe thead th {\n",
              "        text-align: right;\n",
              "    }\n",
              "</style>\n",
              "<table border=\"1\" class=\"dataframe\">\n",
              "  <thead>\n",
              "    <tr style=\"text-align: right;\">\n",
              "      <th></th>\n",
              "      <th>068/09_068.png</th>\n",
              "      <th>068_forg/03_0113068.PNG</th>\n",
              "      <th>1</th>\n",
              "    </tr>\n",
              "  </thead>\n",
              "  <tbody>\n",
              "    <tr>\n",
              "      <th>4386</th>\n",
              "      <td>063/08_063.png</td>\n",
              "      <td>063/06_063.png</td>\n",
              "      <td>0</td>\n",
              "    </tr>\n",
              "    <tr>\n",
              "      <th>5491</th>\n",
              "      <td>066/09_066.png</td>\n",
              "      <td>066_forg/04_0101066.PNG</td>\n",
              "      <td>1</td>\n",
              "    </tr>\n",
              "    <tr>\n",
              "      <th>155</th>\n",
              "      <td>068/04_068.png</td>\n",
              "      <td>068/12_068.png</td>\n",
              "      <td>0</td>\n",
              "    </tr>\n",
              "    <tr>\n",
              "      <th>3255</th>\n",
              "      <td>060/01_060.png</td>\n",
              "      <td>060_forg/02_0121060.PNG</td>\n",
              "      <td>1</td>\n",
              "    </tr>\n",
              "    <tr>\n",
              "      <th>2565</th>\n",
              "      <td>053/01_053.png</td>\n",
              "      <td>053/04_053.png</td>\n",
              "      <td>0</td>\n",
              "    </tr>\n",
              "    <tr>\n",
              "      <th>3439</th>\n",
              "      <td>060/05_060.png</td>\n",
              "      <td>060/01_060.png</td>\n",
              "      <td>0</td>\n",
              "    </tr>\n",
              "    <tr>\n",
              "      <th>4435</th>\n",
              "      <td>063/02_063.png</td>\n",
              "      <td>063/08_063.png</td>\n",
              "      <td>0</td>\n",
              "    </tr>\n",
              "    <tr>\n",
              "      <th>5199</th>\n",
              "      <td>061/06_061.png</td>\n",
              "      <td>061_forg/02_0102061.PNG</td>\n",
              "      <td>1</td>\n",
              "    </tr>\n",
              "    <tr>\n",
              "      <th>2387</th>\n",
              "      <td>053/01_053.png</td>\n",
              "      <td>053_forg/03_0107053.PNG</td>\n",
              "      <td>1</td>\n",
              "    </tr>\n",
              "    <tr>\n",
              "      <th>1021</th>\n",
              "      <td>065/02_065.png</td>\n",
              "      <td>065/10_065.png</td>\n",
              "      <td>0</td>\n",
              "    </tr>\n",
              "  </tbody>\n",
              "</table>\n",
              "</div>"
            ],
            "text/plain": [
              "      068/09_068.png  068_forg/03_0113068.PNG  1\n",
              "4386  063/08_063.png           063/06_063.png  0\n",
              "5491  066/09_066.png  066_forg/04_0101066.PNG  1\n",
              "155   068/04_068.png           068/12_068.png  0\n",
              "3255  060/01_060.png  060_forg/02_0121060.PNG  1\n",
              "2565  053/01_053.png           053/04_053.png  0\n",
              "3439  060/05_060.png           060/01_060.png  0\n",
              "4435  063/02_063.png           063/08_063.png  0\n",
              "5199  061/06_061.png  061_forg/02_0102061.PNG  1\n",
              "2387  053/01_053.png  053_forg/03_0107053.PNG  1\n",
              "1021  065/02_065.png           065/10_065.png  0"
            ]
          },
          "metadata": {
            "tags": []
          },
          "execution_count": 7
        }
      ]
    },
    {
      "cell_type": "code",
      "metadata": {
        "trusted": true,
        "id": "IusiuXa74LuV",
        "colab_type": "code",
        "colab": {
          "base_uri": "https://localhost:8080/",
          "height": 34
        },
        "outputId": "f68d9b55-b3dc-4118-d56d-761551004aa1"
      },
      "source": [
        "df_train.shape"
      ],
      "execution_count": 8,
      "outputs": [
        {
          "output_type": "execute_result",
          "data": {
            "text/plain": [
              "(23205, 3)"
            ]
          },
          "metadata": {
            "tags": []
          },
          "execution_count": 8
        }
      ]
    },
    {
      "cell_type": "code",
      "metadata": {
        "trusted": true,
        "id": "5-wLzugi4Lub",
        "colab_type": "code",
        "colab": {
          "base_uri": "https://localhost:8080/",
          "height": 34
        },
        "outputId": "113fa8bf-8464-4133-b79d-f7306b2e7184"
      },
      "source": [
        "df_test.shape"
      ],
      "execution_count": 9,
      "outputs": [
        {
          "output_type": "execute_result",
          "data": {
            "text/plain": [
              "(5747, 3)"
            ]
          },
          "metadata": {
            "tags": []
          },
          "execution_count": 9
        }
      ]
    },
    {
      "cell_type": "markdown",
      "metadata": {
        "id": "K7X9bXhm4Luk",
        "colab_type": "text"
      },
      "source": [
        "# Making Custom Pytorch Siamese Dataset:-"
      ]
    },
    {
      "cell_type": "markdown",
      "metadata": {
        "id": "45IRMIbp4Lul",
        "colab_type": "text"
      },
      "source": [
        "the ____len____ function which returns the size of the dataset, and\n",
        "\n",
        "the ____getitem____ function which returns a sample from the dataset given an index."
      ]
    },
    {
      "cell_type": "code",
      "metadata": {
        "trusted": true,
        "id": "nefweBvD4Lum",
        "colab_type": "code",
        "colab": {
          "base_uri": "https://localhost:8080/",
          "height": 77
        },
        "outputId": "4614b2c8-2b36-4934-fa9a-d3a470095921"
      },
      "source": [
        "df_train[4:5]"
      ],
      "execution_count": 10,
      "outputs": [
        {
          "output_type": "execute_result",
          "data": {
            "text/html": [
              "<div>\n",
              "<style scoped>\n",
              "    .dataframe tbody tr th:only-of-type {\n",
              "        vertical-align: middle;\n",
              "    }\n",
              "\n",
              "    .dataframe tbody tr th {\n",
              "        vertical-align: top;\n",
              "    }\n",
              "\n",
              "    .dataframe thead th {\n",
              "        text-align: right;\n",
              "    }\n",
              "</style>\n",
              "<table border=\"1\" class=\"dataframe\">\n",
              "  <thead>\n",
              "    <tr style=\"text-align: right;\">\n",
              "      <th></th>\n",
              "      <th>068/09_068.png</th>\n",
              "      <th>068_forg/03_0113068.PNG</th>\n",
              "      <th>1</th>\n",
              "    </tr>\n",
              "  </thead>\n",
              "  <tbody>\n",
              "    <tr>\n",
              "      <th>4</th>\n",
              "      <td>068/09_068.png</td>\n",
              "      <td>068_forg/04_0113068.PNG</td>\n",
              "      <td>1</td>\n",
              "    </tr>\n",
              "  </tbody>\n",
              "</table>\n",
              "</div>"
            ],
            "text/plain": [
              "   068/09_068.png  068_forg/03_0113068.PNG  1\n",
              "4  068/09_068.png  068_forg/04_0113068.PNG  1"
            ]
          },
          "metadata": {
            "tags": []
          },
          "execution_count": 10
        }
      ]
    },
    {
      "cell_type": "code",
      "metadata": {
        "trusted": true,
        "id": "V6KS27JT4Lus",
        "colab_type": "code",
        "colab": {
          "base_uri": "https://localhost:8080/",
          "height": 35
        },
        "outputId": "5b351103-a77d-4457-c55d-ad76e4ecc629"
      },
      "source": [
        "image1_path=os.path.join(train_dir,df_train.iat[4,0])\n",
        "image1_path"
      ],
      "execution_count": 11,
      "outputs": [
        {
          "output_type": "execute_result",
          "data": {
            "application/vnd.google.colaboratory.intrinsic+json": {
              "type": "string"
            },
            "text/plain": [
              "'/content/sign_data/train/068/09_068.png'"
            ]
          },
          "metadata": {
            "tags": []
          },
          "execution_count": 11
        }
      ]
    },
    {
      "cell_type": "code",
      "metadata": {
        "trusted": true,
        "id": "e36r-6x34Lux",
        "colab_type": "code",
        "colab": {}
      },
      "source": [
        "class Sign_Data(Dataset):\n",
        "    def __init__(self,train_dir=None,train_csv=None,transform=None):\n",
        "        self.train_dir=train_dir\n",
        "        self.train_data=pd.read_csv(train_csv)\n",
        "        self.train_data.columns=['image1','image2','class']\n",
        "        self.transform=transform\n",
        "        \n",
        "    def __getitem__(self,idx): ## __getitem__ returns a sample data given index, idx=index\n",
        "        \n",
        "        img1_path=os.path.join(self.train_dir,self.train_data.iat[idx,0])\n",
        "        img2_path=os.path.join(self.train_dir,self.train_data.iat[idx,1])\n",
        "        \n",
        "        img1=Image.open(img1_path)\n",
        "        img2=Image.open(img2_path)\n",
        "        \n",
        "        img1=img1.convert('L') #L mode image, that means it is a single channel image - normally interpreted as greyscale.\n",
        "        img2=img2.convert('L')\n",
        "        \n",
        "        img1=self.transform(img1)\n",
        "        img2=self.transform(img2)\n",
        "        \n",
        "        return img1, img2, torch.from_numpy(np.array([int(self.train_data.iat[idx,2])],dtype=np.float32))\n",
        "    \n",
        "    \n",
        "    def __len__(self): ## __len__ returns the size of the dataset..\n",
        "        return len(self.train_data)"
      ],
      "execution_count": 12,
      "outputs": []
    },
    {
      "cell_type": "markdown",
      "metadata": {
        "id": "NkBI6s7_4Lu2",
        "colab_type": "text"
      },
      "source": [
        "# Returns Image1, Image2 and the class label(whether 0 or 1)."
      ]
    },
    {
      "cell_type": "code",
      "metadata": {
        "trusted": true,
        "id": "eFS6PDU54Lu3",
        "colab_type": "code",
        "colab": {}
      },
      "source": [
        "dataset = Sign_Data(train_dir,train_csv,transform=transforms.Compose([transforms.Resize((100,100)),transforms.ToTensor()]))"
      ],
      "execution_count": 13,
      "outputs": []
    },
    {
      "cell_type": "code",
      "metadata": {
        "trusted": true,
        "id": "u3CgXgDu4Lu9",
        "colab_type": "code",
        "colab": {
          "base_uri": "https://localhost:8080/",
          "height": 34
        },
        "outputId": "f6894d18-1ab6-42c7-9334-7e44f193989f"
      },
      "source": [
        "dataset"
      ],
      "execution_count": 14,
      "outputs": [
        {
          "output_type": "execute_result",
          "data": {
            "text/plain": [
              "<__main__.Sign_Data at 0x7ff534273c88>"
            ]
          },
          "metadata": {
            "tags": []
          },
          "execution_count": 14
        }
      ]
    },
    {
      "cell_type": "markdown",
      "metadata": {
        "id": "OTM3XJbi4LvC",
        "colab_type": "text"
      },
      "source": [
        "# Siamese Network:-"
      ]
    },
    {
      "cell_type": "code",
      "metadata": {
        "trusted": true,
        "id": "eWTCMF0f4LvC",
        "colab_type": "code",
        "colab": {}
      },
      "source": [
        "class SiameseNetwork(nn.Module):\n",
        "    \n",
        "    def __init__(self):\n",
        "        super(SiameseNetwork, self).__init__()\n",
        "        \n",
        "        \n",
        "        self.conv1=nn.Conv2d(1,50,kernel_size=5)\n",
        "        self.pool1 = nn.MaxPool2d(kernel_size = 2, stride = 2, padding = 0)\n",
        "        # L1 ImgIn shape=(?, 28, 28, 1)      # (n-f+2*p/s)+1\n",
        "        #    Conv     -> (?, 24, 24, 50)\n",
        "        #    Pool     -> (?, 12, 12, 50)\n",
        "        \n",
        "        \n",
        "        self.conv2 = nn.Conv2d(50,60, kernel_size = 5)\n",
        "        self.pool2 = nn.MaxPool2d(kernel_size = 2, stride = 2, padding = 0)\n",
        "        # L2 ImgIn shape=(?, 12, 12, 50)\n",
        "        #    Conv      ->(?, 8, 8, 60)\n",
        "        #    Pool      ->(?, 4, 4, 60)\n",
        "        \n",
        "        \n",
        "        self.conv3 = nn.Conv2d(60, 80,  kernel_size = 3)\n",
        "        # L3 ImgIn shape=(?, 4, 4, 60)\n",
        "        #    Conv      ->(?, 2, 2, 80)\n",
        "        \n",
        "        self.batch_norm1 = nn.BatchNorm2d(50)\n",
        "        self.batch_norm2 = nn.BatchNorm2d(60)\n",
        "        \n",
        "        #self.dropout1 = nn.Dropout2d()\n",
        "        \n",
        "        # L4 FC 2*2*80 inputs -> 250 outputs\n",
        "        self.fc1 = nn.Linear(32000, 128) \n",
        "        self.fc2 = nn.Linear(128, 2)\n",
        "        \n",
        "      \n",
        "    \n",
        "    \n",
        "    def forward1(self,x):\n",
        "        x=self.conv1(x)\n",
        "        x = self.batch_norm1(x)\n",
        "        x=F.relu(x)\n",
        "        x=self.pool1(x)\n",
        "        \n",
        "        x=self.conv2(x)\n",
        "        x = self.batch_norm2(x)\n",
        "        x=F.relu(x)\n",
        "        x=self.pool2(x)\n",
        "        \n",
        "        x=self.conv3(x)\n",
        "        x=F.relu(x)\n",
        "#         print(x.size())\n",
        "        x = x.view(x.size()[0], -1)\n",
        "#         print('Output2')\n",
        "#         print(x.size()) #32000 thats why the input of fully connected layer is 32000\n",
        "        x = F.relu(self.fc1(x))\n",
        "        x = self.fc2(x)\n",
        "        \n",
        "        return x\n",
        "    \n",
        "\n",
        "    def forward(self, input1, input2):\n",
        "        # forward pass of input 1\n",
        "        output1 = self.forward1(input1)\n",
        "        # forward pass of input 2\n",
        "        output2 = self.forward1(input2)\n",
        "        \n",
        "        return output1, output2\n"
      ],
      "execution_count": 15,
      "outputs": []
    },
    {
      "cell_type": "markdown",
      "metadata": {
        "id": "u8HbSBGo4LvH",
        "colab_type": "text"
      },
      "source": [
        "# Constrastive Loss Function:-"
      ]
    },
    {
      "cell_type": "markdown",
      "metadata": {
        "id": "ch9Io9qN4LvI",
        "colab_type": "text"
      },
      "source": [
        "Contrastive loss:-\n",
        "Contrastive loss is widely-used in unsupervised and self-supervised learning. Originally developed by Hadsell et al. in 2016 from Yann LeCun’s group, this loss function operates on pairs of samples instead of individual samples. It defines a binary indicator Y for each pair of samples stating whether they should be deemed similar, and a learnable distance function D_W(x_1, x_2) between a pair of samples x_1, x_2, parameterized by the weights W in the neural network. \n",
        "\n",
        ", where m>0 is a margin. The margin defines a radius around the embedding space of a sample so that dissimilar pairs of samples only contribute to the contrastive loss function if the distance D_W is within the margin.\n",
        "\n",
        "\n",
        "Intuitively, this loss function encourages the neural network to learn a embedding to place samples with the same labels close to each other, while distancing the samples with different labels in the embedding space."
      ]
    },
    {
      "cell_type": "code",
      "metadata": {
        "trusted": true,
        "id": "BKxNcL3g4LvJ",
        "colab_type": "code",
        "colab": {}
      },
      "source": [
        "class ContrastiveLoss(torch.nn.Module):\n",
        "    \n",
        "    def __init__(self, margin=1.5):\n",
        "        super(ContrastiveLoss, self).__init__()\n",
        "        self.margin = margin\n",
        "\n",
        "    def forward(self, output1, output2, label):\n",
        "        euclidean_distance = F.pairwise_distance(output1, output2)\n",
        "        loss_contrastive = torch.mean((1-label) * torch.pow(euclidean_distance, 2) +\n",
        "                                      (label) * torch.pow(torch.clamp(self.margin - euclidean_distance, min=0.0), 2))\n",
        "\n",
        "\n",
        "        return loss_contrastive\n",
        "    "
      ],
      "execution_count": 16,
      "outputs": []
    },
    {
      "cell_type": "code",
      "metadata": {
        "trusted": true,
        "id": "SXZxF7U44LvP",
        "colab_type": "code",
        "colab": {}
      },
      "source": [
        "train_dataloader = DataLoader(dataset,\n",
        "                        shuffle=True,\n",
        "                        num_workers=8,\n",
        "                        batch_size=32)"
      ],
      "execution_count": 17,
      "outputs": []
    },
    {
      "cell_type": "code",
      "metadata": {
        "trusted": true,
        "id": "2YIIZOnk4LvU",
        "colab_type": "code",
        "colab": {
          "base_uri": "https://localhost:8080/",
          "height": 34
        },
        "outputId": "23f0ab66-4dc4-4721-8d71-01899d986e7e"
      },
      "source": [
        "train_dataloader"
      ],
      "execution_count": 18,
      "outputs": [
        {
          "output_type": "execute_result",
          "data": {
            "text/plain": [
              "<torch.utils.data.dataloader.DataLoader at 0x7ff53422aef0>"
            ]
          },
          "metadata": {
            "tags": []
          },
          "execution_count": 18
        }
      ]
    },
    {
      "cell_type": "code",
      "metadata": {
        "trusted": true,
        "id": "pgKjW8tQ4Lva",
        "colab_type": "code",
        "colab": {
          "base_uri": "https://localhost:8080/",
          "height": 34
        },
        "outputId": "0a0c2cfb-a539-47f6-e8d4-757c92cb554b"
      },
      "source": [
        "if torch.cuda.is_available():\n",
        "    print('Yes')"
      ],
      "execution_count": 19,
      "outputs": [
        {
          "output_type": "stream",
          "text": [
            "Yes\n"
          ],
          "name": "stdout"
        }
      ]
    },
    {
      "cell_type": "code",
      "metadata": {
        "trusted": true,
        "id": "Hhnj3Bvk4Lvf",
        "colab_type": "code",
        "colab": {}
      },
      "source": [
        "device = torch.device(\"cuda\")\n",
        "net = SiameseNetwork().to(device)\n",
        "\n",
        "criterion = ContrastiveLoss()               \n",
        "#optimizer = torch.optim.SGD(net.parameters(), lr = 3e-4) \n",
        "\n",
        "optimizer = optim.RMSprop(net.parameters(), lr=1e-4, alpha=0.99)"
      ],
      "execution_count": 20,
      "outputs": []
    },
    {
      "cell_type": "code",
      "metadata": {
        "trusted": true,
        "id": "4Vk5dij64Lvk",
        "colab_type": "code",
        "colab": {}
      },
      "source": [
        "def train():\n",
        "    loss= [] \n",
        "\n",
        "    for epoch in range(1,10):\n",
        "        for i, data in enumerate(train_dataloader,0):\n",
        "            img0, img1 , label = data\n",
        "            img0, img1 , label = img0.cuda(), img1.cuda() , label.cuda()\n",
        "            optimizer.zero_grad()\n",
        "            output1,output2 = net(img0,img1)\n",
        "            loss_contrastive = criterion(output1,output2,label)\n",
        "            loss_contrastive.backward()\n",
        "            optimizer.step()\n",
        "            \n",
        "        print(\"Epoch {}\\n Current loss {}\\n\".format(epoch,loss_contrastive.item()))\n",
        "\n",
        "        loss.append(loss_contrastive.item())\n",
        "        \n",
        "    return net"
      ],
      "execution_count": 21,
      "outputs": []
    },
    {
      "cell_type": "code",
      "metadata": {
        "trusted": true,
        "id": "GixaTgUP4Lvt",
        "colab_type": "code",
        "colab": {
          "base_uri": "https://localhost:8080/",
          "height": 487
        },
        "outputId": "2b991490-81cb-446a-b05e-fef873320957"
      },
      "source": [
        "model = train()\n",
        "torch.save(model.state_dict(), \"model.pt\")\n",
        "print(\"Model Saved Successfully\")"
      ],
      "execution_count": 22,
      "outputs": [
        {
          "output_type": "stream",
          "text": [
            "Epoch 1\n",
            " Current loss 0.4805964529514313\n",
            "\n",
            "Epoch 2\n",
            " Current loss 0.5965831875801086\n",
            "\n",
            "Epoch 3\n",
            " Current loss 0.5849786400794983\n",
            "\n",
            "Epoch 4\n",
            " Current loss 0.5848731994628906\n",
            "\n",
            "Epoch 5\n",
            " Current loss 0.5773109793663025\n",
            "\n",
            "Epoch 6\n",
            " Current loss 0.5968514680862427\n",
            "\n",
            "Epoch 7\n",
            " Current loss 0.5285646319389343\n",
            "\n",
            "Epoch 8\n",
            " Current loss 0.6682752966880798\n",
            "\n",
            "Epoch 9\n",
            " Current loss 0.631907045841217\n",
            "\n",
            "Model Saved Successfully\n"
          ],
          "name": "stdout"
        }
      ]
    },
    {
      "cell_type": "code",
      "metadata": {
        "trusted": true,
        "id": "ZN1Ip4oh4Lvy",
        "colab_type": "code",
        "colab": {
          "base_uri": "https://localhost:8080/",
          "height": 34
        },
        "outputId": "68c8c4ea-8a5b-4959-e182-6fd0676d8e0f"
      },
      "source": [
        "device = torch.device('cuda' if torch.cuda.is_available() else 'cpu')\n",
        "model = SiameseNetwork().to(device)\n",
        "model.load_state_dict(torch.load(\"model.pt\"))\n"
      ],
      "execution_count": 23,
      "outputs": [
        {
          "output_type": "execute_result",
          "data": {
            "text/plain": [
              "<All keys matched successfully>"
            ]
          },
          "metadata": {
            "tags": []
          },
          "execution_count": 23
        }
      ]
    },
    {
      "cell_type": "code",
      "metadata": {
        "trusted": true,
        "id": "gK-9Q1Ot4Lv4",
        "colab_type": "code",
        "colab": {}
      },
      "source": [
        "\n",
        "\n",
        "test_dataset = Sign_Data(test_dir,test_csv,transform=transforms.Compose([transforms.Resize((100,100)),transforms.ToTensor()]))\n",
        "\n",
        "test_dataloader = DataLoader(test_dataset,num_workers=8,batch_size=1,shuffle=True)"
      ],
      "execution_count": 24,
      "outputs": []
    },
    {
      "cell_type": "code",
      "metadata": {
        "trusted": true,
        "id": "ZU2Xgze64Lv9",
        "colab_type": "code",
        "colab": {}
      },
      "source": [
        "def imshow(img,text=None,should_save=False):\n",
        "    npimg = img.numpy()\n",
        "    plt.axis(\"off\")\n",
        "    if text:\n",
        "        plt.text(75, 8, text, style='italic',fontweight='bold',\n",
        "            bbox={'facecolor':'white', 'alpha':0.8, 'pad':10})\n",
        "    plt.imshow(np.transpose(npimg, (1, 2, 0)))\n",
        "    plt.show()    "
      ],
      "execution_count": 25,
      "outputs": []
    },
    {
      "cell_type": "markdown",
      "metadata": {
        "id": "ESsWSLP-4LwD",
        "colab_type": "text"
      },
      "source": [
        "# Testing the model by comparing the model's distance prediction between two pairs of Signature:-"
      ]
    },
    {
      "cell_type": "code",
      "metadata": {
        "trusted": true,
        "id": "gZnFOca34LwF",
        "colab_type": "code",
        "colab": {
          "base_uri": "https://localhost:8080/",
          "height": 229
        },
        "outputId": "5caea16f-25d9-42a9-b1fa-b03ef9858192"
      },
      "source": [
        "count=0\n",
        "for i, data in enumerate(test_dataloader,0): \n",
        "  x0, x1 , label = data\n",
        "  concat = torch.cat((x0,x1),0)\n",
        "  output1,output2 = model(x0.to(device),x1.to(device))\n",
        "\n",
        "  eucledian_distance = F.pairwise_distance(output1, output2)\n",
        "    \n",
        "  if label==torch.FloatTensor([[0]]):\n",
        "    label=\"Original Pair Of Signature\"\n",
        "  else:\n",
        "    label=\"Forged Pair Of Signature\"\n",
        "    \n",
        "  imshow(torchvision.utils.make_grid(concat))\n",
        "  print(\"Predicted Eucledian Distance:-\",eucledian_distance.item())\n",
        "  print(\"Actual Label:-\",label)\n",
        "  count=count+1\n",
        "  if count ==10:\n",
        "     break"
      ],
      "execution_count": 1,
      "outputs": [
        {
          "output_type": "error",
          "ename": "NameError",
          "evalue": "ignored",
          "traceback": [
            "\u001b[0;31m---------------------------------------------------------------------------\u001b[0m",
            "\u001b[0;31mNameError\u001b[0m                                 Traceback (most recent call last)",
            "\u001b[0;32m<ipython-input-1-9077f5f3da26>\u001b[0m in \u001b[0;36m<module>\u001b[0;34m()\u001b[0m\n\u001b[1;32m      1\u001b[0m \u001b[0mcount\u001b[0m\u001b[0;34m=\u001b[0m\u001b[0;36m0\u001b[0m\u001b[0;34m\u001b[0m\u001b[0;34m\u001b[0m\u001b[0m\n\u001b[0;32m----> 2\u001b[0;31m \u001b[0;32mfor\u001b[0m \u001b[0mi\u001b[0m\u001b[0;34m,\u001b[0m \u001b[0mdata\u001b[0m \u001b[0;32min\u001b[0m \u001b[0menumerate\u001b[0m\u001b[0;34m(\u001b[0m\u001b[0mtest_dataloader\u001b[0m\u001b[0;34m,\u001b[0m\u001b[0;36m0\u001b[0m\u001b[0;34m)\u001b[0m\u001b[0;34m:\u001b[0m\u001b[0;34m\u001b[0m\u001b[0;34m\u001b[0m\u001b[0m\n\u001b[0m\u001b[1;32m      3\u001b[0m   \u001b[0mx0\u001b[0m\u001b[0;34m,\u001b[0m \u001b[0mx1\u001b[0m \u001b[0;34m,\u001b[0m \u001b[0mlabel\u001b[0m \u001b[0;34m=\u001b[0m \u001b[0mdata\u001b[0m\u001b[0;34m\u001b[0m\u001b[0;34m\u001b[0m\u001b[0m\n\u001b[1;32m      4\u001b[0m   \u001b[0mconcat\u001b[0m \u001b[0;34m=\u001b[0m \u001b[0mtorch\u001b[0m\u001b[0;34m.\u001b[0m\u001b[0mcat\u001b[0m\u001b[0;34m(\u001b[0m\u001b[0;34m(\u001b[0m\u001b[0mx0\u001b[0m\u001b[0;34m,\u001b[0m\u001b[0mx1\u001b[0m\u001b[0;34m)\u001b[0m\u001b[0;34m,\u001b[0m\u001b[0;36m0\u001b[0m\u001b[0;34m)\u001b[0m\u001b[0;34m\u001b[0m\u001b[0;34m\u001b[0m\u001b[0m\n\u001b[1;32m      5\u001b[0m   \u001b[0moutput1\u001b[0m\u001b[0;34m,\u001b[0m\u001b[0moutput2\u001b[0m \u001b[0;34m=\u001b[0m \u001b[0mmodel\u001b[0m\u001b[0;34m(\u001b[0m\u001b[0mx0\u001b[0m\u001b[0;34m.\u001b[0m\u001b[0mto\u001b[0m\u001b[0;34m(\u001b[0m\u001b[0mdevice\u001b[0m\u001b[0;34m)\u001b[0m\u001b[0;34m,\u001b[0m\u001b[0mx1\u001b[0m\u001b[0;34m.\u001b[0m\u001b[0mto\u001b[0m\u001b[0;34m(\u001b[0m\u001b[0mdevice\u001b[0m\u001b[0;34m)\u001b[0m\u001b[0;34m)\u001b[0m\u001b[0;34m\u001b[0m\u001b[0;34m\u001b[0m\u001b[0m\n",
            "\u001b[0;31mNameError\u001b[0m: name 'test_dataloader' is not defined"
          ]
        }
      ]
    },
    {
      "cell_type": "markdown",
      "metadata": {
        "id": "PMeSSejz4LwJ",
        "colab_type": "text"
      },
      "source": [
        "# Mostly our model is predicting the distances quite well."
      ]
    },
    {
      "cell_type": "code",
      "metadata": {
        "id": "KW8nI3R-RB-r",
        "colab_type": "code",
        "colab": {}
      },
      "source": [
        ""
      ],
      "execution_count": 26,
      "outputs": []
    }
  ]
}